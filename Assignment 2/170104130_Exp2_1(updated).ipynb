{
  "nbformat": 4,
  "nbformat_minor": 0,
  "metadata": {
    "colab": {
      "name": "Softcom_Assignment2_Exp2_1.ipynb",
      "provenance": []
    },
    "kernelspec": {
      "name": "python3",
      "display_name": "Python 3"
    },
    "language_info": {
      "name": "python"
    }
  },
  "cells": [
    {
      "cell_type": "code",
      "metadata": {
        "id": "0H0o54aIgcIo"
      },
      "source": [
        "import numpy as np\n",
        "import pandas as pd\n",
        "import torch\n",
        "import torch.nn as nn\n",
        "import torch.nn.functional as F\n",
        "import torch.optim as optim\n",
        "from torch.utils.data import Dataset\n",
        "from torch.utils.data.sampler import SubsetRandomSampler\n",
        "import matplotlib\n",
        "import matplotlib.pyplot as plt\n",
        "from PIL import Image\n",
        "from torchvision import datasets, transforms, models\n",
        "from torch.autograd import Variable\n",
        "from zipfile import ZipFile\n",
        "import os\n",
        "from os import path\n",
        "import shutil"
      ],
      "execution_count": null,
      "outputs": []
    },
    {
      "cell_type": "code",
      "metadata": {
        "id": "XCv88GsbgmH9"
      },
      "source": [
        "from google.colab import drive"
      ],
      "execution_count": null,
      "outputs": []
    },
    {
      "cell_type": "code",
      "metadata": {
        "colab": {
          "base_uri": "https://localhost:8080/"
        },
        "id": "pJAW7EtZg9Mz",
        "outputId": "06782979-3f74-40bb-b3bd-328d25eab7c4"
      },
      "source": [
        "drive.mount('/content/drive')"
      ],
      "execution_count": 27,
      "outputs": [
        {
          "output_type": "stream",
          "name": "stdout",
          "text": [
            "Drive already mounted at /content/drive; to attempt to forcibly remount, call drive.mount(\"/content/drive\", force_remount=True).\n"
          ]
        }
      ]
    },
    {
      "cell_type": "code",
      "metadata": {
        "id": "n85HYxGmg_ya"
      },
      "source": [
        "url='/content/drive/MyDrive/google colab/Assignment-2/'"
      ],
      "execution_count": 28,
      "outputs": []
    },
    {
      "cell_type": "code",
      "metadata": {
        "id": "O8idEz_zhOIl"
      },
      "source": [
        "dataset_A = url + 'Dataset A.zip'\n",
        "with ZipFile(dataset_A, 'r') as zip:\n",
        "  zip.extractall()"
      ],
      "execution_count": 33,
      "outputs": []
    },
    {
      "cell_type": "code",
      "metadata": {
        "id": "nAXsoslKhTrm"
      },
      "source": [
        "import pandas as pd\n",
        "data_labels = pd.read_csv('/content/drive/MyDrive/google colab/Assignment-2/' + 'training-a.csv', usecols = ['filename', 'digit'])"
      ],
      "execution_count": 45,
      "outputs": []
    },
    {
      "cell_type": "code",
      "metadata": {
        "colab": {
          "base_uri": "https://localhost:8080/",
          "height": 221
        },
        "id": "nGS9P4LkhcNX",
        "outputId": "18c92d5f-448b-412b-e7f0-5eda23289df6"
      },
      "source": [
        "print(data_labels.shape)\n",
        "data_labels.head()"
      ],
      "execution_count": 46,
      "outputs": [
        {
          "output_type": "stream",
          "name": "stdout",
          "text": [
            "(19702, 2)\n"
          ]
        },
        {
          "output_type": "execute_result",
          "data": {
            "text/html": [
              "<div>\n",
              "<style scoped>\n",
              "    .dataframe tbody tr th:only-of-type {\n",
              "        vertical-align: middle;\n",
              "    }\n",
              "\n",
              "    .dataframe tbody tr th {\n",
              "        vertical-align: top;\n",
              "    }\n",
              "\n",
              "    .dataframe thead th {\n",
              "        text-align: right;\n",
              "    }\n",
              "</style>\n",
              "<table border=\"1\" class=\"dataframe\">\n",
              "  <thead>\n",
              "    <tr style=\"text-align: right;\">\n",
              "      <th></th>\n",
              "      <th>filename</th>\n",
              "      <th>digit</th>\n",
              "    </tr>\n",
              "  </thead>\n",
              "  <tbody>\n",
              "    <tr>\n",
              "      <th>0</th>\n",
              "      <td>a00000.png</td>\n",
              "      <td>5</td>\n",
              "    </tr>\n",
              "    <tr>\n",
              "      <th>1</th>\n",
              "      <td>a00001.png</td>\n",
              "      <td>3</td>\n",
              "    </tr>\n",
              "    <tr>\n",
              "      <th>2</th>\n",
              "      <td>a00002.png</td>\n",
              "      <td>1</td>\n",
              "    </tr>\n",
              "    <tr>\n",
              "      <th>3</th>\n",
              "      <td>a00003.png</td>\n",
              "      <td>7</td>\n",
              "    </tr>\n",
              "    <tr>\n",
              "      <th>4</th>\n",
              "      <td>a00004.png</td>\n",
              "      <td>0</td>\n",
              "    </tr>\n",
              "  </tbody>\n",
              "</table>\n",
              "</div>"
            ],
            "text/plain": [
              "     filename  digit\n",
              "0  a00000.png      5\n",
              "1  a00001.png      3\n",
              "2  a00002.png      1\n",
              "3  a00003.png      7\n",
              "4  a00004.png      0"
            ]
          },
          "metadata": {},
          "execution_count": 46
        }
      ]
    },
    {
      "cell_type": "code",
      "metadata": {
        "id": "H9bRSfzohfU5"
      },
      "source": [
        "PATH = '/content/'"
      ],
      "execution_count": 70,
      "outputs": []
    },
    {
      "cell_type": "code",
      "metadata": {
        "id": "QfRDMYOdhimq"
      },
      "source": [
        "TRAIN_PATH = url + 'Train_1'\n",
        "os.mkdir(TRAIN_PATH)\n",
        "\n",
        "def processImages(folder_name):\n",
        "  src = PATH + folder_name + '/'\n",
        "  dir_folders = os.listdir(src)\n",
        "  for dir_name in dir_folders:\n",
        "    file_name = os.path.join(src, dir_name)\n",
        "    if os.path.isfile(file_name):\n",
        "      shutil.copy(file_name, TRAIN_PATH) \n",
        "\n",
        "processImages('training-a')"
      ],
      "execution_count": 72,
      "outputs": []
    },
    {
      "cell_type": "code",
      "metadata": {
        "id": "MQOhORr4hq_k"
      },
      "source": [
        "class Dataset(Dataset):\n",
        "    def __init__(self, df, root, transform=None):\n",
        "        self.data = df\n",
        "        self.root = root\n",
        "        self.transform = transform\n",
        "        \n",
        "    def __len__(self):\n",
        "        return len(self.data)\n",
        "    \n",
        "    def __getitem__(self, index):\n",
        "        item = self.data.iloc[index]\n",
        "        \n",
        "        path = self.root + \"/\" + item[0]\n",
        "        image = Image.open(path).convert('L')\n",
        "        label = item[1]\n",
        "        \n",
        "        if self.transform is not None:\n",
        "            image = self.transform(image)\n",
        "            \n",
        "        return image, label"
      ],
      "execution_count": 73,
      "outputs": []
    },
    {
      "cell_type": "code",
      "metadata": {
        "colab": {
          "base_uri": "https://localhost:8080/"
        },
        "id": "0Xqbmb4CipTr",
        "outputId": "47cce7d0-5f43-40d1-a6f6-8bca7f09ac81"
      },
      "source": [
        "mean = [0.5,]\n",
        "std = [0.5, ]\n",
        "\n",
        "train_transform = transforms.Compose([\n",
        "    transforms.Resize(28),\n",
        "    transforms.ToTensor(),\n",
        "    transforms.Normalize(mean, std)\n",
        "])\n",
        "\n",
        "test_transform = transforms.Compose([\n",
        "        transforms.Resize(28),\n",
        "        transforms.ToTensor(),\n",
        "        transforms.Normalize(mean, std)\n",
        "])\n",
        "\n",
        "train_data  = Dataset(data_labels, TRAIN_PATH, train_transform)\n",
        "test_data = Dataset(data_labels, TRAIN_PATH, test_transform)\n",
        "\n",
        "print(\"Trainig Samples: \", len(train_data))"
      ],
      "execution_count": 74,
      "outputs": [
        {
          "output_type": "stream",
          "name": "stdout",
          "text": [
            "Trainig Samples:  19702\n"
          ]
        }
      ]
    },
    {
      "cell_type": "markdown",
      "metadata": {
        "id": "5SG2axdQixpL"
      },
      "source": [
        "# **Experminent 2_1**"
      ]
    },
    {
      "cell_type": "code",
      "metadata": {
        "colab": {
          "base_uri": "https://localhost:8080/"
        },
        "id": "nMNDnaGMisf5",
        "outputId": "7ea441ff-fbb2-46f1-b12a-ff3237ce51c2"
      },
      "source": [
        "#Batch Parameters\n",
        "batch_size = 300\n",
        "num_iters = 25000\n",
        "input_dim = 28*28\n",
        "num_hidden = 250\n",
        "output_dim = 10\n",
        "\n",
        "learning_rate = 0.02\n",
        "\n",
        "num_epochs = num_iters / (len(train_data) / batch_size)\n",
        "num_epochs = int(num_epochs)\n",
        "print(num_epochs)\n",
        "\n",
        "device = torch.device(\"cuda:0\" if torch.cuda.is_available() else \"cpu\")"
      ],
      "execution_count": 75,
      "outputs": [
        {
          "output_type": "stream",
          "name": "stdout",
          "text": [
            "380\n"
          ]
        }
      ]
    },
    {
      "cell_type": "code",
      "metadata": {
        "colab": {
          "base_uri": "https://localhost:8080/"
        },
        "id": "KA1j-b5djDiV",
        "outputId": "c2f8b871-12d6-476d-c0ba-53aabca2982a"
      },
      "source": [
        "test_size = 0.2\n",
        "num_train = len(train_data)\n",
        "indices = list(range(num_train))\n",
        "np.random.shuffle(indices)\n",
        "split = int(np.floor(test_size * num_train))\n",
        "train_idx, test_idx = indices[split:], indices[:split]\n",
        "\n",
        "train_sampler = SubsetRandomSampler(train_idx)\n",
        "test_sampler = SubsetRandomSampler(test_idx)\n",
        "\n",
        "train_loader = torch.utils.data.DataLoader(\n",
        "    train_data, batch_size=batch_size,\n",
        "    sampler=train_sampler)\n",
        "\n",
        "test_loader = torch.utils.data.DataLoader(\n",
        "    test_data, batch_size=batch_size,\n",
        "    sampler=test_sampler)\n",
        "\n",
        "print(\"Train dataloader:{}\".format(len(train_loader)))\n",
        "print(\"Test dataloader:{}\".format(len(test_loader)))"
      ],
      "execution_count": 76,
      "outputs": [
        {
          "output_type": "stream",
          "name": "stdout",
          "text": [
            "Train dataloader:53\n",
            "Test dataloader:14\n"
          ]
        }
      ]
    },
    {
      "cell_type": "code",
      "metadata": {
        "id": "WNF48RcajiWD"
      },
      "source": [
        "class DeepNeuralNetworkModel(nn.Module):\n",
        "    def __init__(self, input_size, num_classes, num_hidden):\n",
        "        super().__init__()\n",
        "\n",
        "       #First Hidden Layer\n",
        "        self.linear_1 = nn.Linear(input_size, num_hidden)\n",
        "        self.relu_1 = nn.ReLU()\n",
        "\n",
        "        #2nd Hidden Layer\n",
        "        self.linear_2 = nn.Linear(num_hidden, num_hidden)\n",
        "        self.relu_2 = nn.ReLU()\n",
        "\n",
        "         #3rd Hidden Layer\n",
        "        self.linear_3 = nn.Linear(num_hidden, num_hidden)\n",
        "        self.relu_3 = nn.Softmax(dim=0)\n",
        "\n",
        "         #4th Hidden Layer\n",
        "        self.linear_4 = nn.Linear(num_hidden, num_hidden)\n",
        "        self.relu_4 = nn.ReLU()\n",
        "\n",
        "         #5th Hidden Layer\n",
        "        self.linear_5= nn.Linear(num_hidden, num_hidden)\n",
        "        self.relu_5= nn.ReLU()\n",
        "        \n",
        "        #6th Hidden Layer\n",
        "        self.linear_6 = nn.Linear(num_hidden, num_hidden)\n",
        "        self.relu_6 = nn.ReLU()\n",
        "\n",
        "\n",
        "  \n",
        " \n",
        "        self.linear_out = nn.Linear(num_hidden, num_classes)\n",
        " \n",
        "    def forward(self, x):\n",
        "        out  = self.linear_1(x)\n",
        "        out = self.relu_1(out)\n",
        "        \n",
        "        out  = self.linear_2(out)\n",
        "        out = self.relu_2(out)\n",
        " \n",
        "        out  = self.linear_3(out)\n",
        "        out = self.relu_3(out)\n",
        " \n",
        "        out  = self.linear_4(out)\n",
        "        out = self.relu_4(out)\n",
        " \n",
        "        out  = self.linear_5(out)\n",
        "        out = self.relu_5(out)\n",
        " \n",
        "        out  = self.linear_6(out)\n",
        "        out = self.relu_6(out)\n",
        "\n",
        "        \n",
        "        \n",
        "        probas  = self.linear_out(out)\n",
        "        return probas"
      ],
      "execution_count": 77,
      "outputs": []
    },
    {
      "cell_type": "code",
      "metadata": {
        "colab": {
          "base_uri": "https://localhost:8080/"
        },
        "id": "kTierGCujt4t",
        "outputId": "7d0636ba-e8b9-41ed-c709-f20a4ecc9c89"
      },
      "source": [
        "model = DeepNeuralNetworkModel(input_size = input_dim, num_classes = output_dim, num_hidden = num_hidden)\n",
        "\n",
        "model.to(device)"
      ],
      "execution_count": 78,
      "outputs": [
        {
          "output_type": "execute_result",
          "data": {
            "text/plain": [
              "DeepNeuralNetworkModel(\n",
              "  (linear_1): Linear(in_features=784, out_features=250, bias=True)\n",
              "  (relu_1): ReLU()\n",
              "  (linear_2): Linear(in_features=250, out_features=250, bias=True)\n",
              "  (relu_2): ReLU()\n",
              "  (linear_3): Linear(in_features=250, out_features=250, bias=True)\n",
              "  (relu_3): Softmax(dim=0)\n",
              "  (linear_4): Linear(in_features=250, out_features=250, bias=True)\n",
              "  (relu_4): ReLU()\n",
              "  (linear_5): Linear(in_features=250, out_features=250, bias=True)\n",
              "  (relu_5): ReLU()\n",
              "  (linear_6): Linear(in_features=250, out_features=250, bias=True)\n",
              "  (relu_6): ReLU()\n",
              "  (linear_out): Linear(in_features=250, out_features=10, bias=True)\n",
              ")"
            ]
          },
          "metadata": {},
          "execution_count": 78
        }
      ]
    },
    {
      "cell_type": "code",
      "metadata": {
        "id": "3MghwGKujw7A"
      },
      "source": [
        "criterion = nn.CrossEntropyLoss()\n",
        "#optimizer = torch.optim.SGD(model.parameters(), lr = learning_rate)\n",
        "optimizer = torch.optim.Adam(model.parameters(), lr = learning_rate)"
      ],
      "execution_count": 79,
      "outputs": []
    },
    {
      "cell_type": "code",
      "metadata": {
        "colab": {
          "base_uri": "https://localhost:8080/"
        },
        "id": "JrV1CluDj3AV",
        "outputId": "d1fbe899-900a-44bb-8bfe-224b3de05ba7"
      },
      "source": [
        "iteration_loss = []\n",
        "iter = 0\n",
        "for epoch in range(num_epochs):\n",
        "    print('Epoch: ', epoch + 1)\n",
        "    for i, (images, labels) in enumerate(train_loader):\n",
        "\n",
        "        images = images.view(-1, 28*28).to(device)\n",
        "        labels = labels.to(device)\n",
        "\n",
        "        optimizer.zero_grad()\n",
        "\n",
        "        outputs = model(images) \n",
        "\n",
        "        loss = criterion(outputs, labels)\n",
        "\n",
        "        loss.backward()\n",
        "\n",
        "        optimizer.step()\n",
        "\n",
        "        iter += 1\n",
        "\n",
        "        if iter % 500 == 0:        \n",
        "            correct = 0\n",
        "            total = 0\n",
        "            for images, labels in test_loader:\n",
        "               \n",
        "                images = images.view(-1, 28*28).to(device)\n",
        "\n",
        "                outputs = model(images)\n",
        "\n",
        "                _, predicted = torch.max(outputs, 1)\n",
        "\n",
        "                total += labels.size(0)\n",
        "\n",
        "                if torch.cuda.is_available():\n",
        "                    correct += (predicted.cpu() == labels.cpu()).sum() \n",
        "                else:\n",
        "                    correct += (predicted == labels).sum()\n",
        "\n",
        "            accuracy = 100 * correct.item() / total\n",
        "\n",
        "            iteration_loss.append(loss.item())\n",
        "            print('Iteration: {}. Loss: {}. Accuracy: {}'.format(iter, loss.item(), accuracy))"
      ],
      "execution_count": 80,
      "outputs": [
        {
          "output_type": "stream",
          "name": "stdout",
          "text": [
            "Epoch:  1\n",
            "Epoch:  2\n",
            "Epoch:  3\n",
            "Epoch:  4\n",
            "Epoch:  5\n",
            "Epoch:  6\n",
            "Epoch:  7\n",
            "Epoch:  8\n",
            "Epoch:  9\n",
            "Epoch:  10\n",
            "Iteration: 500. Loss: 0.683857798576355. Accuracy: 62.51269035532995\n",
            "Epoch:  11\n",
            "Epoch:  12\n",
            "Epoch:  13\n",
            "Epoch:  14\n",
            "Epoch:  15\n",
            "Epoch:  16\n",
            "Epoch:  17\n",
            "Epoch:  18\n",
            "Epoch:  19\n",
            "Iteration: 1000. Loss: 0.501582145690918. Accuracy: 75.0761421319797\n",
            "Epoch:  20\n",
            "Epoch:  21\n",
            "Epoch:  22\n",
            "Epoch:  23\n",
            "Epoch:  24\n",
            "Epoch:  25\n",
            "Epoch:  26\n",
            "Epoch:  27\n",
            "Epoch:  28\n",
            "Epoch:  29\n",
            "Iteration: 1500. Loss: 0.4896852672100067. Accuracy: 76.16751269035532\n",
            "Epoch:  30\n",
            "Epoch:  31\n",
            "Epoch:  32\n",
            "Epoch:  33\n",
            "Epoch:  34\n",
            "Epoch:  35\n",
            "Epoch:  36\n",
            "Epoch:  37\n",
            "Epoch:  38\n",
            "Iteration: 2000. Loss: 0.4973036050796509. Accuracy: 78.1472081218274\n",
            "Epoch:  39\n",
            "Epoch:  40\n",
            "Epoch:  41\n",
            "Epoch:  42\n",
            "Epoch:  43\n",
            "Epoch:  44\n",
            "Epoch:  45\n",
            "Epoch:  46\n",
            "Epoch:  47\n",
            "Epoch:  48\n",
            "Iteration: 2500. Loss: 0.404411643743515. Accuracy: 77.23350253807106\n",
            "Epoch:  49\n",
            "Epoch:  50\n",
            "Epoch:  51\n",
            "Epoch:  52\n",
            "Epoch:  53\n",
            "Epoch:  54\n",
            "Epoch:  55\n",
            "Epoch:  56\n",
            "Epoch:  57\n",
            "Iteration: 3000. Loss: 0.4132814109325409. Accuracy: 74.18781725888324\n",
            "Epoch:  58\n",
            "Epoch:  59\n",
            "Epoch:  60\n",
            "Epoch:  61\n",
            "Epoch:  62\n",
            "Epoch:  63\n",
            "Epoch:  64\n",
            "Epoch:  65\n",
            "Epoch:  66\n",
            "Epoch:  67\n",
            "Iteration: 3500. Loss: 0.6349074244499207. Accuracy: 75.65989847715736\n",
            "Epoch:  68\n",
            "Epoch:  69\n",
            "Epoch:  70\n",
            "Epoch:  71\n",
            "Epoch:  72\n",
            "Epoch:  73\n",
            "Epoch:  74\n",
            "Epoch:  75\n",
            "Epoch:  76\n",
            "Iteration: 4000. Loss: 0.39867064356803894. Accuracy: 73.55329949238579\n",
            "Epoch:  77\n",
            "Epoch:  78\n",
            "Epoch:  79\n",
            "Epoch:  80\n",
            "Epoch:  81\n",
            "Epoch:  82\n",
            "Epoch:  83\n",
            "Epoch:  84\n",
            "Epoch:  85\n",
            "Iteration: 4500. Loss: 0.5030525326728821. Accuracy: 74.13705583756345\n",
            "Epoch:  86\n",
            "Epoch:  87\n",
            "Epoch:  88\n",
            "Epoch:  89\n",
            "Epoch:  90\n",
            "Epoch:  91\n",
            "Epoch:  92\n",
            "Epoch:  93\n",
            "Epoch:  94\n",
            "Epoch:  95\n",
            "Iteration: 5000. Loss: 0.45410609245300293. Accuracy: 72.20812182741116\n",
            "Epoch:  96\n",
            "Epoch:  97\n",
            "Epoch:  98\n",
            "Epoch:  99\n",
            "Epoch:  100\n",
            "Epoch:  101\n",
            "Epoch:  102\n",
            "Epoch:  103\n",
            "Epoch:  104\n",
            "Iteration: 5500. Loss: 0.4836243689060211. Accuracy: 74.64467005076142\n",
            "Epoch:  105\n",
            "Epoch:  106\n",
            "Epoch:  107\n",
            "Epoch:  108\n",
            "Epoch:  109\n",
            "Epoch:  110\n",
            "Epoch:  111\n",
            "Epoch:  112\n",
            "Epoch:  113\n",
            "Epoch:  114\n",
            "Iteration: 6000. Loss: 0.5000793933868408. Accuracy: 72.81725888324873\n",
            "Epoch:  115\n",
            "Epoch:  116\n",
            "Epoch:  117\n",
            "Epoch:  118\n",
            "Epoch:  119\n",
            "Epoch:  120\n",
            "Epoch:  121\n",
            "Epoch:  122\n",
            "Epoch:  123\n",
            "Iteration: 6500. Loss: 0.45592671632766724. Accuracy: 72.28426395939087\n",
            "Epoch:  124\n",
            "Epoch:  125\n",
            "Epoch:  126\n",
            "Epoch:  127\n",
            "Epoch:  128\n",
            "Epoch:  129\n",
            "Epoch:  130\n",
            "Epoch:  131\n",
            "Epoch:  132\n",
            "Epoch:  133\n",
            "Iteration: 7000. Loss: 0.5371768474578857. Accuracy: 71.7258883248731\n",
            "Epoch:  134\n",
            "Epoch:  135\n",
            "Epoch:  136\n",
            "Epoch:  137\n",
            "Epoch:  138\n",
            "Epoch:  139\n",
            "Epoch:  140\n",
            "Epoch:  141\n",
            "Epoch:  142\n",
            "Iteration: 7500. Loss: 0.5361791253089905. Accuracy: 72.46192893401015\n",
            "Epoch:  143\n",
            "Epoch:  144\n",
            "Epoch:  145\n",
            "Epoch:  146\n",
            "Epoch:  147\n",
            "Epoch:  148\n",
            "Epoch:  149\n",
            "Epoch:  150\n",
            "Epoch:  151\n",
            "Iteration: 8000. Loss: 0.5838655829429626. Accuracy: 71.7258883248731\n",
            "Epoch:  152\n",
            "Epoch:  153\n",
            "Epoch:  154\n",
            "Epoch:  155\n",
            "Epoch:  156\n",
            "Epoch:  157\n",
            "Epoch:  158\n",
            "Epoch:  159\n",
            "Epoch:  160\n",
            "Epoch:  161\n",
            "Iteration: 8500. Loss: 0.5295034646987915. Accuracy: 71.87817258883248\n",
            "Epoch:  162\n",
            "Epoch:  163\n",
            "Epoch:  164\n",
            "Epoch:  165\n",
            "Epoch:  166\n",
            "Epoch:  167\n",
            "Epoch:  168\n",
            "Epoch:  169\n",
            "Epoch:  170\n",
            "Iteration: 9000. Loss: 0.4644365906715393. Accuracy: 71.49746192893402\n",
            "Epoch:  171\n",
            "Epoch:  172\n",
            "Epoch:  173\n",
            "Epoch:  174\n",
            "Epoch:  175\n",
            "Epoch:  176\n",
            "Epoch:  177\n",
            "Epoch:  178\n",
            "Epoch:  179\n",
            "Epoch:  180\n",
            "Iteration: 9500. Loss: 0.4524899423122406. Accuracy: 71.97969543147208\n",
            "Epoch:  181\n",
            "Epoch:  182\n",
            "Epoch:  183\n",
            "Epoch:  184\n",
            "Epoch:  185\n",
            "Epoch:  186\n",
            "Epoch:  187\n",
            "Epoch:  188\n",
            "Epoch:  189\n",
            "Iteration: 10000. Loss: 0.6163831949234009. Accuracy: 71.44670050761421\n",
            "Epoch:  190\n",
            "Epoch:  191\n",
            "Epoch:  192\n",
            "Epoch:  193\n",
            "Epoch:  194\n",
            "Epoch:  195\n",
            "Epoch:  196\n",
            "Epoch:  197\n",
            "Epoch:  198\n",
            "Epoch:  199\n",
            "Iteration: 10500. Loss: 0.801365852355957. Accuracy: 65.81218274111676\n",
            "Epoch:  200\n",
            "Epoch:  201\n",
            "Epoch:  202\n",
            "Epoch:  203\n",
            "Epoch:  204\n",
            "Epoch:  205\n",
            "Epoch:  206\n",
            "Epoch:  207\n",
            "Epoch:  208\n",
            "Iteration: 11000. Loss: 0.3773818612098694. Accuracy: 73.248730964467\n",
            "Epoch:  209\n",
            "Epoch:  210\n",
            "Epoch:  211\n",
            "Epoch:  212\n",
            "Epoch:  213\n",
            "Epoch:  214\n",
            "Epoch:  215\n",
            "Epoch:  216\n",
            "Epoch:  217\n",
            "Iteration: 11500. Loss: 0.5910791158676147. Accuracy: 71.29441624365482\n",
            "Epoch:  218\n",
            "Epoch:  219\n",
            "Epoch:  220\n",
            "Epoch:  221\n",
            "Epoch:  222\n",
            "Epoch:  223\n",
            "Epoch:  224\n",
            "Epoch:  225\n",
            "Epoch:  226\n",
            "Epoch:  227\n",
            "Iteration: 12000. Loss: 0.3425450026988983. Accuracy: 71.29441624365482\n",
            "Epoch:  228\n",
            "Epoch:  229\n",
            "Epoch:  230\n",
            "Epoch:  231\n",
            "Epoch:  232\n",
            "Epoch:  233\n",
            "Epoch:  234\n",
            "Epoch:  235\n",
            "Epoch:  236\n",
            "Iteration: 12500. Loss: 0.5592700839042664. Accuracy: 71.06598984771574\n",
            "Epoch:  237\n",
            "Epoch:  238\n",
            "Epoch:  239\n",
            "Epoch:  240\n",
            "Epoch:  241\n",
            "Epoch:  242\n",
            "Epoch:  243\n",
            "Epoch:  244\n",
            "Epoch:  245\n",
            "Epoch:  246\n",
            "Iteration: 13000. Loss: 0.7228305339813232. Accuracy: 65.17766497461929\n",
            "Epoch:  247\n",
            "Epoch:  248\n",
            "Epoch:  249\n",
            "Epoch:  250\n",
            "Epoch:  251\n",
            "Epoch:  252\n",
            "Epoch:  253\n",
            "Epoch:  254\n",
            "Epoch:  255\n",
            "Iteration: 13500. Loss: 0.6545172333717346. Accuracy: 70.65989847715736\n",
            "Epoch:  256\n",
            "Epoch:  257\n",
            "Epoch:  258\n",
            "Epoch:  259\n",
            "Epoch:  260\n",
            "Epoch:  261\n",
            "Epoch:  262\n",
            "Epoch:  263\n",
            "Epoch:  264\n",
            "Epoch:  265\n",
            "Iteration: 14000. Loss: 0.7493482828140259. Accuracy: 67.05583756345177\n",
            "Epoch:  266\n",
            "Epoch:  267\n",
            "Epoch:  268\n",
            "Epoch:  269\n",
            "Epoch:  270\n",
            "Epoch:  271\n",
            "Epoch:  272\n",
            "Epoch:  273\n",
            "Epoch:  274\n",
            "Iteration: 14500. Loss: 0.6183217763900757. Accuracy: 67.56345177664974\n",
            "Epoch:  275\n",
            "Epoch:  276\n",
            "Epoch:  277\n",
            "Epoch:  278\n",
            "Epoch:  279\n",
            "Epoch:  280\n",
            "Epoch:  281\n",
            "Epoch:  282\n",
            "Epoch:  283\n",
            "Epoch:  284\n",
            "Iteration: 15000. Loss: 0.5303555130958557. Accuracy: 68.68020304568527\n",
            "Epoch:  285\n",
            "Epoch:  286\n",
            "Epoch:  287\n",
            "Epoch:  288\n",
            "Epoch:  289\n",
            "Epoch:  290\n",
            "Epoch:  291\n",
            "Epoch:  292\n",
            "Epoch:  293\n",
            "Iteration: 15500. Loss: 0.5784741640090942. Accuracy: 67.89340101522842\n",
            "Epoch:  294\n",
            "Epoch:  295\n",
            "Epoch:  296\n",
            "Epoch:  297\n",
            "Epoch:  298\n",
            "Epoch:  299\n",
            "Epoch:  300\n",
            "Epoch:  301\n",
            "Epoch:  302\n",
            "Iteration: 16000. Loss: 0.6039184927940369. Accuracy: 67.33502538071066\n",
            "Epoch:  303\n",
            "Epoch:  304\n",
            "Epoch:  305\n",
            "Epoch:  306\n",
            "Epoch:  307\n",
            "Epoch:  308\n",
            "Epoch:  309\n",
            "Epoch:  310\n",
            "Epoch:  311\n",
            "Epoch:  312\n",
            "Iteration: 16500. Loss: 0.676762580871582. Accuracy: 68.09644670050761\n",
            "Epoch:  313\n",
            "Epoch:  314\n",
            "Epoch:  315\n",
            "Epoch:  316\n",
            "Epoch:  317\n",
            "Epoch:  318\n",
            "Epoch:  319\n",
            "Epoch:  320\n",
            "Epoch:  321\n",
            "Iteration: 17000. Loss: 0.6076803803443909. Accuracy: 67.36040609137056\n",
            "Epoch:  322\n",
            "Epoch:  323\n",
            "Epoch:  324\n",
            "Epoch:  325\n",
            "Epoch:  326\n",
            "Epoch:  327\n",
            "Epoch:  328\n",
            "Epoch:  329\n",
            "Epoch:  330\n",
            "Epoch:  331\n",
            "Iteration: 17500. Loss: 0.5000703930854797. Accuracy: 66.29441624365482\n",
            "Epoch:  332\n",
            "Epoch:  333\n",
            "Epoch:  334\n",
            "Epoch:  335\n",
            "Epoch:  336\n",
            "Epoch:  337\n",
            "Epoch:  338\n",
            "Epoch:  339\n",
            "Epoch:  340\n",
            "Iteration: 18000. Loss: 0.5355421900749207. Accuracy: 65.50761421319797\n",
            "Epoch:  341\n",
            "Epoch:  342\n",
            "Epoch:  343\n",
            "Epoch:  344\n",
            "Epoch:  345\n",
            "Epoch:  346\n",
            "Epoch:  347\n",
            "Epoch:  348\n",
            "Epoch:  349\n",
            "Epoch:  350\n",
            "Iteration: 18500. Loss: 0.5509878396987915. Accuracy: 66.34517766497461\n",
            "Epoch:  351\n",
            "Epoch:  352\n",
            "Epoch:  353\n",
            "Epoch:  354\n",
            "Epoch:  355\n",
            "Epoch:  356\n",
            "Epoch:  357\n",
            "Epoch:  358\n",
            "Epoch:  359\n",
            "Iteration: 19000. Loss: 0.583501935005188. Accuracy: 67.51269035532995\n",
            "Epoch:  360\n",
            "Epoch:  361\n",
            "Epoch:  362\n",
            "Epoch:  363\n",
            "Epoch:  364\n",
            "Epoch:  365\n",
            "Epoch:  366\n",
            "Epoch:  367\n",
            "Epoch:  368\n",
            "Iteration: 19500. Loss: 0.5921908617019653. Accuracy: 64.51776649746193\n",
            "Epoch:  369\n",
            "Epoch:  370\n",
            "Epoch:  371\n",
            "Epoch:  372\n",
            "Epoch:  373\n",
            "Epoch:  374\n",
            "Epoch:  375\n",
            "Epoch:  376\n",
            "Epoch:  377\n",
            "Epoch:  378\n",
            "Iteration: 20000. Loss: 0.5364919900894165. Accuracy: 68.4010152284264\n",
            "Epoch:  379\n",
            "Epoch:  380\n"
          ]
        }
      ]
    },
    {
      "cell_type": "code",
      "metadata": {
        "id": "YfqKuehgj9gJ",
        "colab": {
          "base_uri": "https://localhost:8080/",
          "height": 317
        },
        "outputId": "a7e454ce-ee11-4048-fcc6-bfa9e6f351fa"
      },
      "source": [
        "print (iteration_loss)\n",
        "plt.plot(iteration_loss)\n",
        "plt.ylabel('Loss')\n",
        "plt.xlabel('Iteration')\n",
        "plt.show()"
      ],
      "execution_count": 81,
      "outputs": [
        {
          "output_type": "stream",
          "name": "stdout",
          "text": [
            "[0.683857798576355, 0.501582145690918, 0.4896852672100067, 0.4973036050796509, 0.404411643743515, 0.4132814109325409, 0.6349074244499207, 0.39867064356803894, 0.5030525326728821, 0.45410609245300293, 0.4836243689060211, 0.5000793933868408, 0.45592671632766724, 0.5371768474578857, 0.5361791253089905, 0.5838655829429626, 0.5295034646987915, 0.4644365906715393, 0.4524899423122406, 0.6163831949234009, 0.801365852355957, 0.3773818612098694, 0.5910791158676147, 0.3425450026988983, 0.5592700839042664, 0.7228305339813232, 0.6545172333717346, 0.7493482828140259, 0.6183217763900757, 0.5303555130958557, 0.5784741640090942, 0.6039184927940369, 0.676762580871582, 0.6076803803443909, 0.5000703930854797, 0.5355421900749207, 0.5509878396987915, 0.583501935005188, 0.5921908617019653, 0.5364919900894165]\n"
          ]
        },
        {
          "output_type": "display_data",
          "data": {
            "image/png": "[encoded data removed]",
            "text/plain": [
              "<Figure size 432x288 with 1 Axes>"
            ]
          },
          "metadata": {
            "needs_background": "light"
          }
        }
      ]
    },
    {
      "cell_type": "code",
      "metadata": {
        "id": "s-OcvNLuyqAH"
      },
      "source": [
        "torch.save(model.state_dict(), '/content/drive/MyDrive/google colab/Assignment-2/model_base_1.pkl')"
      ],
      "execution_count": 83,
      "outputs": []
    },
    {
      "cell_type": "code",
      "metadata": {
        "id": "RclhKKyKyx5c"
      },
      "source": [
        ""
      ],
      "execution_count": null,
      "outputs": []
    }
  ]
}